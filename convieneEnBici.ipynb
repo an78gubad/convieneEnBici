{
 "cells": [
  {
   "cell_type": "markdown",
   "metadata": {},
   "source": [
    "# Calcular si conviene en Bici, Auto, Transporte Público o Caminando"
   ]
  },
  {
   "cell_type": "markdown",
   "metadata": {},
   "source": [
    "## Cargamos las librerias"
   ]
  },
  {
   "cell_type": "code",
   "execution_count": 9,
   "metadata": {},
   "outputs": [],
   "source": [
    "import pandas as pd\n",
    "import numpy as np\n",
    "import geopandas as gpd\n",
    "import osmnx as ox\n",
    "from shapely.geometry import Point,Polygon,LineString\n",
    "\n",
    "import googlemaps\n",
    "from datetime import datetime\n",
    "import time\n",
    "\n",
    "import matplotlib.pyplot as plt; plt.rcdefaults()\n",
    "%matplotlib inline\n",
    "\n",
    "from IPython.display import Markdown, display\n",
    "def printmd(string):\n",
    "    display(Markdown(string))"
   ]
  },
  {
   "cell_type": "markdown",
   "metadata": {},
   "source": [
    "## Parámetros"
   ]
  },
  {
   "cell_type": "code",
   "execution_count": 47,
   "metadata": {},
   "outputs": [],
   "source": [
    "ciudad = \"Buenos Aires,Argentina\"\n",
    "APIkey = 'KEY'\n",
    "gmaps = googlemaps.Client(key=APIkey)"
   ]
  },
  {
   "cell_type": "markdown",
   "metadata": {},
   "source": [
    "## Funcion para consultar GMaps"
   ]
  },
  {
   "cell_type": "code",
   "execution_count": 40,
   "metadata": {},
   "outputs": [],
   "source": [
    "def query_gmaps(O, D, mode,depart,gmaps=gmaps):\n",
    "    '''\n",
    "    This functions takes \n",
    "    a gmaps instance\n",
    "    coordinates for Origin and Destination \n",
    "    O = (origin.y,origin.x)\n",
    "    D = (destination.y,destination.x)\n",
    "    a mode: bicycling o driving\n",
    "    and a departure time\n",
    "    and returns a google distance matrix api\n",
    "    '''\n",
    "    out = gmaps.distance_matrix(\n",
    "        origins = O,\n",
    "        destinations = D,\n",
    "        language=None, avoid=None,\n",
    "        mode=mode,\n",
    "        units = 'metric',\n",
    "        departure_time = depart,\n",
    "        arrival_time=None, transit_mode=None,\n",
    "        transit_routing_preference=None,\n",
    "        traffic_model=\"best_guess\",\n",
    "        region = None)\n",
    "    return out"
   ]
  },
  {
   "cell_type": "markdown",
   "metadata": {},
   "source": [
    "## Origen y Destino"
   ]
  },
  {
   "cell_type": "code",
   "execution_count": 41,
   "metadata": {},
   "outputs": [],
   "source": [
    "casa = \"Avenida Rivadavia 1234\""
   ]
  },
  {
   "cell_type": "code",
   "execution_count": 42,
   "metadata": {},
   "outputs": [],
   "source": [
    "destino = \"Club Ferrocarril Oeste\""
   ]
  },
  {
   "cell_type": "code",
   "execution_count": 43,
   "metadata": {},
   "outputs": [],
   "source": [
    "hsSalida = datetime.now()"
   ]
  },
  {
   "cell_type": "markdown",
   "metadata": {},
   "source": [
    "## Consulta con cada medio de transporte"
   ]
  },
  {
   "cell_type": "code",
   "execution_count": 44,
   "metadata": {},
   "outputs": [],
   "source": [
    "bici = query_gmaps(O = casa + \", \" + ciudad, D = destino + \", \" + ciudad, mode = 'bicycling',depart = hsSalida) \n",
    "auto = query_gmaps(O = casa + \", \" + ciudad, D = destino + \", \" + ciudad, mode = 'driving',depart = hsSalida) \n",
    "publico = query_gmaps(O = casa + \", \" + ciudad, D = destino + \", \" + ciudad, mode = 'transit',depart = hsSalida) \n",
    "caminando = query_gmaps(O = casa + \", \" + ciudad, D = destino + \", \" + ciudad, mode = 'walking',depart = hsSalida) \n",
    "\n",
    "tiempoBiciLetras = bici[\"rows\"][0][\"elements\"][0][\"duration\"][\"text\"]\n",
    "tiempoBiciValor = bici[\"rows\"][0][\"elements\"][0][\"duration\"][\"value\"]\n",
    "\n",
    "tiempoAutoLetras = auto[\"rows\"][0][\"elements\"][0][\"duration\"][\"text\"]\n",
    "tiempoAutoValor = auto[\"rows\"][0][\"elements\"][0][\"duration\"][\"value\"]\n",
    "\n",
    "tiempoPublicoLetras = publico[\"rows\"][0][\"elements\"][0][\"duration\"][\"text\"]\n",
    "tiempoPublicoValor = publico[\"rows\"][0][\"elements\"][0][\"duration\"][\"value\"]\n",
    "\n",
    "tiempoCaminandoLetras = caminando[\"rows\"][0][\"elements\"][0][\"duration\"][\"text\"]\n",
    "tiempoCaminandoValor = caminando[\"rows\"][0][\"elements\"][0][\"duration\"][\"value\"]"
   ]
  },
  {
   "cell_type": "code",
   "execution_count": 45,
   "metadata": {},
   "outputs": [
    {
     "data": {
      "image/png": "[encoded data removed]",
      "text/plain": [
       "<Figure size 432x288 with 1 Axes>"
      ]
     },
     "metadata": {
      "needs_background": "light"
     },
     "output_type": "display_data"
    },
    {
     "name": "stdout",
     "output_type": "stream",
     "text": [
      "En bici: 25 mins\n",
      "En auto: 19 mins\n",
      "En transporte público: 26 mins\n",
      "Caminando: 1 hour 16 mins\n"
     ]
    },
    {
     "data": {
      "text/markdown": [
       "<span style='color:red'>Conviene en auto</span>"
      ],
      "text/plain": [
       "<IPython.core.display.Markdown object>"
      ]
     },
     "metadata": {},
     "output_type": "display_data"
    }
   ],
   "source": [
    "objects = ('Bici', 'Auto', 'TransportePublico', 'Caminando')\n",
    "y_pos = np.arange(len(objects))\n",
    "performance = [tiempoBiciValor / 60, tiempoAutoValor / 60, tiempoPublicoValor / 60, tiempoCaminandoValor / 60]\n",
    "\n",
    "plt.bar(y_pos, performance, align='center', alpha=0.5)\n",
    "plt.xticks(y_pos, objects)\n",
    "plt.ylabel('Minutos')\n",
    "plt.title('Tiempo en viajar desde ' + casa + ' hasta ' + destino)\n",
    "\n",
    "plt.show()\n",
    "\n",
    "print (\"En bici: \" + tiempoBiciLetras)\n",
    "print (\"En auto: \" + tiempoAutoLetras)\n",
    "print (\"En transporte público: \" + tiempoPublicoLetras)\n",
    "print (\"Caminando: \" + tiempoCaminandoLetras)\n",
    "\n",
    "if(tiempoBiciValor <= tiempoAutoValor and tiempoBiciValor <= tiempoPublicoValor and tiempoBiciValor <= tiempoCaminandoValor):\n",
    "    printmd(\"<span style='color:red'>Conviene en Bici!</span>\")\n",
    "else:\n",
    "    if(tiempoAutoValor <= tiempoBiciValor and tiempoAutoValor <= tiempoPublicoValor and tiempoAutoValor <= tiempoCaminandoValor):\n",
    "        printmd(\"<span style='color:red'>Conviene en auto</span>\")\n",
    "    else:\n",
    "        if(tiempoCaminandoValor <= tiempoBiciValor and tiempoCaminandoValor <= tiempoAutoValor and tiempoCaminandoValor <= tiempoCaminandoValor):\n",
    "            printmd(\"<span style='color:red'>Conviene caminando</span>\")\n",
    "        else:\n",
    "            printmd(\"<span style='color:red'>Conviene en transporte público</span>\")"
   ]
  },
  {
   "cell_type": "code",
   "execution_count": null,
   "metadata": {},
   "outputs": [],
   "source": []
  }
 ],
 "metadata": {
  "kernelspec": {
   "display_name": "Python 3",
   "language": "python",
   "name": "python3"
  },
  "language_info": {
   "codemirror_mode": {
    "name": "ipython",
    "version": 3
   },
   "file_extension": ".py",
   "mimetype": "text/x-python",
   "name": "python",
   "nbconvert_exporter": "python",
   "pygments_lexer": "ipython3",
   "version": "3.5.3"
  }
 },
 "nbformat": 4,
 "nbformat_minor": 2
}
